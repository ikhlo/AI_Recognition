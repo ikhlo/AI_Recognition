{
  "nbformat": 4,
  "nbformat_minor": 0,
  "metadata": {
    "colab": {
      "name": "Gender_Recognition.ipynb",
      "provenance": [],
      "collapsed_sections": []
    },
    "kernelspec": {
      "name": "python3",
      "display_name": "Python 3"
    },
    "language_info": {
      "name": "python"
    },
    "accelerator": "GPU"
  },
  "cells": [
    {
      "cell_type": "code",
      "metadata": {
        "colab": {
          "base_uri": "https://localhost:8080/"
        },
        "id": "S-Elf0kn8U6N",
        "outputId": "1491f494-c6d3-4dfa-f786-8d9adda78d3c"
      },
      "source": [
        "import os\n",
        "\n",
        "from google.colab import drive\n",
        "\n",
        "drive.mount(\"/content/drive\")"
      ],
      "execution_count": null,
      "outputs": [
        {
          "output_type": "stream",
          "text": [
            "Mounted at /content/drive\n"
          ],
          "name": "stdout"
        }
      ]
    },
    {
      "cell_type": "code",
      "metadata": {
        "id": "IIr0Jss-_9vU"
      },
      "source": [
        "os.chdir('/content/drive/MyDrive')"
      ],
      "execution_count": null,
      "outputs": []
    },
    {
      "cell_type": "markdown",
      "metadata": {
        "id": "yDHwX_r6G35_"
      },
      "source": [
        "### Set up data folder"
      ]
    },
    {
      "cell_type": "code",
      "metadata": {
        "colab": {
          "base_uri": "https://localhost:8080/",
          "height": 35
        },
        "id": "vuXuIsoa8vTH",
        "outputId": "290d9a52-390f-4007-8ea4-f542ca7bf8ac"
      },
      "source": [
        "drive_path = os.getcwd()\n",
        "os.getcwd()"
      ],
      "execution_count": null,
      "outputs": [
        {
          "output_type": "execute_result",
          "data": {
            "application/vnd.google.colaboratory.intrinsic+json": {
              "type": "string"
            },
            "text/plain": [
              "'/content/drive/MyDrive'"
            ]
          },
          "metadata": {
            "tags": []
          },
          "execution_count": 3
        }
      ]
    },
    {
      "cell_type": "code",
      "metadata": {
        "id": "rvaVcG-3BDs7"
      },
      "source": [
        "try:\n",
        "  os.makedirs(os.path.join(drive_path,'PROJET_PERSO/Gender_Recognition'))\n",
        "except:\n",
        "  pass"
      ],
      "execution_count": null,
      "outputs": []
    },
    {
      "cell_type": "code",
      "metadata": {
        "id": "iCRfnO3NDOIN"
      },
      "source": [
        "os.chdir(os.path.join(drive_path,'PROJET_PERSO/Gender_Recognition'))"
      ],
      "execution_count": null,
      "outputs": []
    },
    {
      "cell_type": "code",
      "metadata": {
        "id": "MCbm0nCFFe2q"
      },
      "source": [
        "project_path = os.getcwd()"
      ],
      "execution_count": null,
      "outputs": []
    },
    {
      "cell_type": "markdown",
      "metadata": {
        "id": "T3DyIk09GvWG"
      },
      "source": [
        "### Scrapping on TMDB API"
      ]
    },
    {
      "cell_type": "code",
      "metadata": {
        "id": "6KO42MtrG0zN"
      },
      "source": [
        "import requests\n",
        "\n",
        "from skimage import io\n",
        "import cv2\n",
        "\n",
        "from tqdm import tqdm\n",
        "\n",
        "import glob"
      ],
      "execution_count": null,
      "outputs": []
    },
    {
      "cell_type": "code",
      "metadata": {
        "id": "bOOG8nQnNbSw"
      },
      "source": [
        "imgbase_path = \"https://www.themoviedb.org/t/p/original/\""
      ],
      "execution_count": null,
      "outputs": []
    },
    {
      "cell_type": "code",
      "metadata": {
        "id": "I_-tT2ZKKuQD"
      },
      "source": [
        "api_key = \"YOUR API KEY accessible on https://developers.themoviedb.org/3/getting-started/introduction\""
      ],
      "execution_count": null,
      "outputs": []
    },
    {
      "cell_type": "code",
      "metadata": {
        "id": "_c6_naQZ4EmE"
      },
      "source": [
        "def dataset_creation(key=\"\", img_num=50):\n",
        "\n",
        "  page = 1\n",
        "  imgbase_path = \"https://www.themoviedb.org/t/p/w400/\"\n",
        "  test = requests.get(f\"https://api.themoviedb.org/3/person/1?api_key={key}&language=en-US\").status_code\n",
        "\n",
        "  face_cascade = cv2.CascadeClassifier('/usr/local/lib/python3.7/dist-packages/cv2/data/haarcascade_frontalface_alt2.xml')\n",
        "\n",
        "  if test != 200 :\n",
        "    print('Invalid API key !')\n",
        "    return 0\n",
        "  \n",
        "  if img_num < 1:\n",
        "    print(\"The number of image should be at least greater than 1 !\")\n",
        "    return 0\n",
        "\n",
        "\n",
        "  project_path = os.getcwd()\n",
        "  woman_path = os.path.join(project_path, 'Female')\n",
        "  man_path = os.path.join(project_path, 'Male')\n",
        "\n",
        "  try:\n",
        "    os.makedirs(woman_path)\n",
        "    os.makedirs(man_path)\n",
        "  except:\n",
        "    pass\n",
        "\n",
        "  with tqdm(total=100) as pbar:\n",
        "    while (len(os.listdir(woman_path))<img_num or len(os.listdir(man_path))<img_num):\n",
        "\n",
        "      elms = requests.get(f\"https://api.themoviedb.org/3/person/popular?api_key={key}&language=en-US&page={page}\").json()['results']\n",
        "\n",
        "      for elm in elms:\n",
        "\n",
        "        req = requests.get(f\"https://api.themoviedb.org/3/person/{elm['id']}?api_key={key}&language=en-US\")\n",
        "        data = req.json()\n",
        "\n",
        "        if req.status_code == 200 : \n",
        "          if data['profile_path']:\n",
        "\n",
        "            img = io.imread(imgbase_path+data['profile_path'])\n",
        "            \n",
        "            try:\n",
        "              img_gray = cv2.cvtColor(img, cv2.COLOR_BGR2GRAY)\n",
        "              faces = face_cascade.detectMultiScale(img_gray, 1.1, 4)\n",
        "            except: #Means the image is already in grayscale\n",
        "              faces = face_cascade.detectMultiScale(img, 1.1, 4)\n",
        "\n",
        "            if len(faces)==1 :\n",
        "              x, y, w, h = faces[0]\n",
        "              crop_face = img[y:y + h, x:x + w]\n",
        "\n",
        "              if int(data['gender']) == 1 and len(os.listdir(woman_path))<img_num:\n",
        "                io.imsave(os.path.join(woman_path, f'{elm[\"id\"]}.jpg'), crop_face)\n",
        "                pbar.update((1/(2*img_num)) * 100)\n",
        "\n",
        "              elif int(data['gender']) == 2 and len(os.listdir(man_path))<img_num:\n",
        "                io.imsave(os.path.join(man_path, f'{elm[\"id\"]}.jpg'), crop_face)\n",
        "                pbar.update((1/(2*img_num)) * 100)\n",
        "\n",
        "      page +=1\n",
        "      if (len(os.listdir(woman_path))>=img_num and len(os.listdir(man_path))>=img_num): break"
      ],
      "execution_count": null,
      "outputs": []
    },
    {
      "cell_type": "code",
      "metadata": {
        "colab": {
          "base_uri": "https://localhost:8080/"
        },
        "id": "UblNMj9e6Ex-",
        "outputId": "e325d538-f00b-4c5f-da52-7eed96d2303b"
      },
      "source": [
        "dataset_creation(api_key, 1000)"
      ],
      "execution_count": null,
      "outputs": [
        {
          "output_type": "stream",
          "text": [
            "  0%|          | 0/100 [00:00<?, ?it/s]\n"
          ],
          "name": "stderr"
        }
      ]
    },
    {
      "cell_type": "markdown",
      "metadata": {
        "id": "i12-Nl1ADF4b"
      },
      "source": [
        "### SCRAPPING GOOGLE IMAGES"
      ]
    },
    {
      "cell_type": "code",
      "metadata": {
        "id": "uh_q2olSDMdm"
      },
      "source": [
        "\"\"\"\n",
        "!apt update\n",
        "!apt install chromium-chromedriver\n",
        "!pip install selenium\n",
        "\"\"\"\n",
        "#Used to add different data to our dataset (as there was not much black people)\n",
        "\n",
        "from selenium import webdriver\n",
        "import time\n",
        "import requests\n",
        "from PIL import Image\n",
        "from skimage import io\n",
        "import hashlib\n",
        "import cv2\n",
        "\n",
        "def fetch_image_urls(query:str, max_links_to_fetch:int, wd:webdriver, sleep_between_interactions:int=1):\n",
        "    def scroll_to_end(wd):\n",
        "        wd.execute_script(\"window.scrollTo(0, document.body.scrollHeight);\")\n",
        "        time.sleep(sleep_between_interactions)        \n",
        "    \n",
        "    # build the google query\n",
        "    search_url = \"https://www.google.com/search?safe=off&site=&tbm=isch&source=hp&q={q}&oq={q}&gs_l=img\"\n",
        "\n",
        "    # load the page\n",
        "    wd.get(search_url.format(q=query))\n",
        "\n",
        "    image_urls = set()\n",
        "    image_count = 0\n",
        "    results_start = 0\n",
        "    error_clicks = 0\n",
        "    while (image_count < max_links_to_fetch) & (error_clicks < 30): # error clicks to stop when there are no more results to show by Google Images. You can tune the number\n",
        "        scroll_to_end(wd)\n",
        "\n",
        "        print('Starting search for Images')\n",
        "\n",
        "        # get all image thumbnail results\n",
        "        thumbnail_results = wd.find_elements_by_css_selector(\"img.Q4LuWd\")\n",
        "        number_results = len(thumbnail_results)\n",
        "        \n",
        "        print(f\"Found: {number_results} search results. Extracting links from {results_start}:{number_results}\")\n",
        "        for img in thumbnail_results[results_start:max_links_to_fetch]:\n",
        "            # try to click every thumbnail such that we can get the real image behind it\n",
        "            print(\"Total Errors till now:\", error_clicks)\n",
        "            try:\n",
        "                print('Trying to Click the Image')\n",
        "                img.click()\n",
        "                time.sleep(sleep_between_interactions)\n",
        "                print('Image Click Successful!')\n",
        "            except Exception:\n",
        "                error_clicks = error_clicks + 1\n",
        "                print('ERROR: Unable to Click the Image')\n",
        "                if(results_start < number_results):\n",
        "                \tcontinue\n",
        "                else:\n",
        "                \tbreak\n",
        "                \t\n",
        "            results_start = results_start + 1\n",
        "\n",
        "            # extract image urls    \n",
        "            print('Extracting of Image URLs')\n",
        "            actual_images = wd.find_elements_by_css_selector('img.n3VNCb')\n",
        "            for actual_image in actual_images:\n",
        "                if actual_image.get_attribute('src') and 'http' in actual_image.get_attribute('src'):\n",
        "                    image_urls.add(actual_image.get_attribute('src'))\n",
        "\n",
        "            image_count = len(image_urls)\n",
        "\n",
        "            print('Current Total Image Count:', image_count)\n",
        "\n",
        "            if len(image_urls) >= max_links_to_fetch:\n",
        "                print(f\"Found: {len(image_urls)} image links, done!\")\n",
        "                break\n",
        "            else:\n",
        "                load_more_button = wd.find_element_by_css_selector(\".mye4qd\")\n",
        "                if load_more_button:\n",
        "                    wd.execute_script(\"document.querySelector('.mye4qd').click();\")\n",
        "            \t        \n",
        "        results_start = len(thumbnail_results)\n",
        "\n",
        "    return image_urls\n",
        "\n",
        "def persist_image(folder_path:str,file_name:str,url:str):\n",
        "    face_cascade = cv2.CascadeClassifier('/usr/local/lib/python3.7/dist-packages/cv2/data/haarcascade_frontalface_alt2.xml')\n",
        "    try:\n",
        "        image_content = requests.get(url).content\n",
        "\n",
        "    except Exception as e:\n",
        "        print(f\"ERROR - Could not download {url} - {e}\")\n",
        "\n",
        "    try:\n",
        "        image_file = io.imread(url)\n",
        "        #image = Image.open(image_file).convert('RGB')\n",
        "        #folder_path = os.path.join(folder_path,file_name)\n",
        "        img_gray = cv2.cvtColor(image_file, cv2.COLOR_BGR2GRAY)\n",
        "        faces = face_cascade.detectMultiScale(img_gray, 1.1, 4)\n",
        "        if len(faces)==1 :\n",
        "          x, y, w, h = faces[0]\n",
        "          crop_face = image_file[y:y + h, x:x + w]\n",
        "          if os.path.exists(folder_path):\n",
        "              file_path = os.path.join(folder_path,hashlib.sha1(image_content).hexdigest()[:10] + '.jpg')\n",
        "          else:\n",
        "              os.mkdir(folder_path)\n",
        "              file_path = os.path.join(folder_path,hashlib.sha1(image_content).hexdigest()[:10] + '.jpg')\n",
        "          io.imsave(file_path, crop_face)\n",
        "          \"\"\"\n",
        "          with open(file_path, 'wb') as f:\n",
        "              image.save(f, \"JPEG\", quality=85)\"\"\"\n",
        "          print(f\"SUCCESS - saved {url} - as {file_path}\")\n",
        "    except Exception as e:\n",
        "        print(f\"ERROR - Could not save {url} - {e}\")\n",
        "\n",
        "\n",
        "\n",
        "options = webdriver.ChromeOptions()\n",
        "options.add_argument('--headless')\n",
        "options.add_argument('--no-sandbox')\n",
        "options.add_argument('--disable-dev-shm-usage')\n",
        "\n",
        "wd = webdriver.Chrome(options=options)\n",
        "queries = {\"Female\" :\"Black Woman\", \"Male\":\"Black Man\"}  #change your set of queries here\n",
        "for folder, query in queries.items():\n",
        "    wd.get('https://google.com')\n",
        "    search_box = wd.find_element_by_css_selector('input.gLFyf')\n",
        "    search_box.send_keys(query)\n",
        "    links = fetch_image_urls(query, 100, wd) \n",
        "    images_path = project_path+\"/\"+folder\n",
        "    for i in links:\n",
        "        persist_image(images_path,query,i)\n",
        "wd.quit()"
      ],
      "execution_count": null,
      "outputs": []
    },
    {
      "cell_type": "code",
      "metadata": {
        "colab": {
          "base_uri": "https://localhost:8080/"
        },
        "id": "3h8xuLCejfD8",
        "outputId": "8c29e5a2-5c14-4dae-c1ad-a5448740e1c0"
      },
      "source": [
        "len(os.listdir('Male'))"
      ],
      "execution_count": null,
      "outputs": [
        {
          "output_type": "execute_result",
          "data": {
            "text/plain": [
              "1073"
            ]
          },
          "metadata": {
            "tags": []
          },
          "execution_count": 12
        }
      ]
    },
    {
      "cell_type": "code",
      "metadata": {
        "colab": {
          "base_uri": "https://localhost:8080/"
        },
        "id": "jlC93EfsA762",
        "outputId": "65a45fb9-6493-4baf-8c9a-9fda37c624f3"
      },
      "source": [
        "len(os.listdir('Female'))"
      ],
      "execution_count": null,
      "outputs": [
        {
          "output_type": "execute_result",
          "data": {
            "text/plain": [
              "1067"
            ]
          },
          "metadata": {
            "tags": []
          },
          "execution_count": 13
        }
      ]
    },
    {
      "cell_type": "markdown",
      "metadata": {
        "id": "1T89f9ELJfqr"
      },
      "source": [
        "### Preprocessing"
      ]
    },
    {
      "cell_type": "code",
      "metadata": {
        "colab": {
          "base_uri": "https://localhost:8080/",
          "height": 35
        },
        "id": "a4V1eZ6Vk-Db",
        "outputId": "9737dffa-0beb-475c-f855-0675e0390e59"
      },
      "source": [
        "import tensorflow as tf\n",
        "tf.__version__"
      ],
      "execution_count": null,
      "outputs": [
        {
          "output_type": "execute_result",
          "data": {
            "application/vnd.google.colaboratory.intrinsic+json": {
              "type": "string"
            },
            "text/plain": [
              "'2.4.1'"
            ]
          },
          "metadata": {
            "tags": []
          },
          "execution_count": 15
        }
      ]
    },
    {
      "cell_type": "code",
      "metadata": {
        "id": "5RqhQTCHKx6Q"
      },
      "source": [
        "import numpy as np\n",
        "import pandas as pd\n",
        "import matplotlib.pyplot as plt\n",
        "\n",
        "from sklearn.model_selection import train_test_split\n",
        "\n",
        "from tensorflow.keras.preprocessing.image import ImageDataGenerator, img_to_array\n",
        "from tensorflow.keras.utils import to_categorical\n",
        "from tensorflow.keras.optimizers import Adam, SGD\n",
        "from tensorflow.keras.regularizers import l2\n",
        "from tensorflow.keras import models as KM\n",
        "from tensorflow.keras import layers as KL\n",
        "from tensorflow.keras import backend as K"
      ],
      "execution_count": null,
      "outputs": []
    },
    {
      "cell_type": "code",
      "metadata": {
        "id": "jZk875N6NyPr"
      },
      "source": [
        "#BASE PARAMETERS\n",
        "IMG_DIMS = (64, 64, 3)\n",
        "LR = 0.001\n",
        "EPOCHS = 75\n",
        "BATCHSIZE = 128"
      ],
      "execution_count": null,
      "outputs": []
    },
    {
      "cell_type": "code",
      "metadata": {
        "colab": {
          "base_uri": "https://localhost:8080/",
          "height": 35
        },
        "id": "K5SXsMdfPAY9",
        "outputId": "3d2adada-222f-4b6b-d66e-f40026cd1cc9"
      },
      "source": [
        "project_path"
      ],
      "execution_count": null,
      "outputs": [
        {
          "output_type": "execute_result",
          "data": {
            "application/vnd.google.colaboratory.intrinsic+json": {
              "type": "string"
            },
            "text/plain": [
              "'/content/drive/MyDrive/PROJET_PERSO/Gender_Recognition_TEST'"
            ]
          },
          "metadata": {
            "tags": []
          },
          "execution_count": 18
        }
      ]
    },
    {
      "cell_type": "code",
      "metadata": {
        "colab": {
          "base_uri": "https://localhost:8080/",
          "height": 81
        },
        "id": "LjmGNT6VOVAn",
        "outputId": "7ead6241-74d0-4a96-d6e1-3c4ed75ae80d"
      },
      "source": [
        "from google.colab.patches import cv2_imshow\n",
        "\n",
        "a = cv2.imread(f\"{project_path}/Male/{os.listdir('Male')[67]}\")\n",
        "a = cv2.resize(a, IMG_DIMS[:2])\n",
        "cv2_imshow(a)"
      ],
      "execution_count": null,
      "outputs": [
        {
          "output_type": "display_data",
          "data": {
            "image/png": "[encoded data removed]",
            "text/plain": [
              "<PIL.Image.Image image mode=RGB size=64x64 at 0x7FA2F29AC390>"
            ]
          },
          "metadata": {
            "tags": []
          }
        }
      ]
    },
    {
      "cell_type": "code",
      "metadata": {
        "id": "N99WDhoMLt1G"
      },
      "source": [
        "def train_test_creation(dataset_size = 100):\n",
        "\n",
        "  assert dataset_size >= 1\n",
        "  \n",
        "  all_imgs = []\n",
        "  labels = []\n",
        "  genders = ('Male','Female')\n",
        "\n",
        "  print('Creation of the dataset...')\n",
        "  #Append image and their corresponding label in lists\n",
        "  for gender in genders:\n",
        "\n",
        "    for img in glob.glob(f'{gender}/*.jpg')[:dataset_size]:\n",
        "      try:\n",
        "        current = cv2.imread(f\"{project_path}/{img}\")\n",
        "        current = cv2.resize(current, IMG_DIMS[:2])\n",
        "        all_imgs.append(img_to_array(current))\n",
        "\n",
        "        if gender == \"Male\" : labels.append(0)\n",
        "        else : labels.append(1)\n",
        "      except:\n",
        "        pass\n",
        "    print(f'All {gender} have been added.')\n",
        "  print('')\n",
        "\n",
        "  print('Normalizing features...')\n",
        "  #Convert image array to float and normalize it\n",
        "  all_imgs = np.array(all_imgs, dtype=\"float\")\n",
        "  all_imgs /= 255.0\n",
        "\n",
        "  print('Dealing with labels...')\n",
        "  #Resize labels list shape to fit with all_imgs shape\n",
        "  labels = np.array(labels)\n",
        "  labels = labels.reshape(-1, 1)\n",
        "  labels = to_categorical(labels, num_classes=2)\n",
        "\n",
        "  X_train, X_test, y_train, y_test = train_test_split(all_imgs, labels, train_size=0.75, \n",
        "                                                      shuffle=True, random_state=10)\n",
        "\n",
        "  return X_train, X_test, y_train, y_test"
      ],
      "execution_count": null,
      "outputs": []
    },
    {
      "cell_type": "code",
      "metadata": {
        "id": "W3I9AREiXo6f",
        "colab": {
          "base_uri": "https://localhost:8080/"
        },
        "outputId": "51742967-c836-4b8d-f253-ddc4cd75918c"
      },
      "source": [
        "X_train, X_test, y_train, y_test = train_test_creation(1100)"
      ],
      "execution_count": null,
      "outputs": [
        {
          "output_type": "stream",
          "text": [
            "Creation of the dataset...\n",
            "All Male have been added.\n",
            "All Female have been added.\n",
            "\n",
            "Normalizing features...\n",
            "Dealing with labels...\n"
          ],
          "name": "stdout"
        }
      ]
    },
    {
      "cell_type": "code",
      "metadata": {
        "colab": {
          "base_uri": "https://localhost:8080/"
        },
        "id": "9mdOnZog6_YN",
        "outputId": "b6348027-4015-4975-9ff5-5a74f4aa49e6"
      },
      "source": [
        "X_train.shape"
      ],
      "execution_count": null,
      "outputs": [
        {
          "output_type": "execute_result",
          "data": {
            "text/plain": [
              "(1602, 64, 64, 3)"
            ]
          },
          "metadata": {
            "tags": []
          },
          "execution_count": 27
        }
      ]
    },
    {
      "cell_type": "code",
      "metadata": {
        "colab": {
          "base_uri": "https://localhost:8080/"
        },
        "id": "NAS9eUluxcdo",
        "outputId": "99577c3f-a437-4c30-e565-fc9420a42751"
      },
      "source": [
        "print(f\"Number of male in the train set : {len([y for y in y_train if (y==np.array([1.,0.])).all()])}\")\n",
        "print(f\"Number of female in the train set : {len([y for y in y_train if (y==np.array([0.,1.])).all()])}\\n\")\n",
        "\n",
        "print(f\"Number of male in the test set : {len([y for y in y_test if (y==np.array([1.,0.])).all()])}\")\n",
        "print(f\"Number of female in the test set : {len([y for y in y_test if (y==np.array([0.,1.])).all()])}\")"
      ],
      "execution_count": null,
      "outputs": [
        {
          "output_type": "stream",
          "text": [
            "Number of male in the train set : 794\n",
            "Number of female in the train set : 808\n",
            "\n",
            "Number of male in the test set : 279\n",
            "Number of female in the test set : 255\n"
          ],
          "name": "stdout"
        }
      ]
    },
    {
      "cell_type": "code",
      "metadata": {
        "id": "AtIbuTsi2nE6"
      },
      "source": [
        "# USING IMAGEDATAGENERATOR TO GENERATE OTHERS IMAGES FROM ONE IMAGE\n",
        "\n",
        "datagen = ImageDataGenerator(rotation_range=0.2, height_shift_range=0.05, width_shift_range=0.05, zoom_range=0.2, shear_range=0.2, horizontal_flip=True, fill_mode=\"nearest\")\n",
        "datagen.fit(X_train)"
      ],
      "execution_count": null,
      "outputs": []
    },
    {
      "cell_type": "markdown",
      "metadata": {
        "id": "JGlFgd9d6gQh"
      },
      "source": [
        "### Model conception"
      ]
    },
    {
      "cell_type": "code",
      "metadata": {
        "id": "lm_xy92r6jkT"
      },
      "source": [
        "def build_model(height, width, channel):\n",
        "  #Check the position of channels in Keras backend\n",
        "  if K.image_data_format() == \"channels_last\":\n",
        "    channel_axis = -1\n",
        "    input_shape = (height, width, channel)\n",
        "  \n",
        "  else :\n",
        "    channel_axis = 1 # First axis is batch_size\n",
        "    input_shape = (channel, height, width)\n",
        "\n",
        "  model = KM.Sequential()\n",
        "\n",
        "  model.add(KL.Conv2D(filters=32, kernel_size=5, padding='same', kernel_initializer=\"he_uniform\", input_shape=input_shape))\n",
        "  model.add(KL.BatchNormalization(axis=channel_axis))\n",
        "  model.add(KL.Activation(\"relu\"))\n",
        "  model.add(KL.MaxPool2D(pool_size=2, strides=2, padding=\"same\"))\n",
        "  model.add(KL.Dropout(0.3))\n",
        "\n",
        "  model.add(KL.Conv2D(filters=64, kernel_size=5, padding='same', kernel_initializer=\"he_uniform\"))\n",
        "  model.add(KL.BatchNormalization(axis=channel_axis))\n",
        "  model.add(KL.Activation(\"relu\"))\n",
        "  model.add(KL.MaxPool2D(pool_size=2, strides=2, padding=\"same\"))\n",
        "  model.add(KL.Dropout(0.3))\n",
        "  \n",
        "  \n",
        "  model.add(KL.Flatten())\n",
        "  model.add(KL.Dense(512, kernel_initializer=\"he_uniform\", kernel_regularizer=l2(0.0001)))\n",
        "  model.add(KL.BatchNormalization())\n",
        "  model.add(KL.Activation(\"relu\"))\n",
        "  model.add(KL.Dropout(0.5))\n",
        "\n",
        "  model.add(KL.Dense(2))\n",
        "  model.add(KL.Activation(\"softmax\"))\n",
        "\n",
        "  return model\n"
      ],
      "execution_count": null,
      "outputs": []
    },
    {
      "cell_type": "code",
      "metadata": {
        "id": "JBIekJmQ71vw"
      },
      "source": [
        "model = build_model(*IMG_DIMS)"
      ],
      "execution_count": null,
      "outputs": []
    },
    {
      "cell_type": "code",
      "metadata": {
        "colab": {
          "base_uri": "https://localhost:8080/"
        },
        "id": "82iQz6g673R2",
        "outputId": "55e7534c-5ac9-4525-e435-8f0ea62a77b8"
      },
      "source": [
        "model.summary()"
      ],
      "execution_count": null,
      "outputs": [
        {
          "output_type": "stream",
          "text": [
            "Model: \"sequential\"\n",
            "_________________________________________________________________\n",
            "Layer (type)                 Output Shape              Param #   \n",
            "=================================================================\n",
            "conv2d (Conv2D)              (None, 64, 64, 32)        2432      \n",
            "_________________________________________________________________\n",
            "batch_normalization (BatchNo (None, 64, 64, 32)        128       \n",
            "_________________________________________________________________\n",
            "activation (Activation)      (None, 64, 64, 32)        0         \n",
            "_________________________________________________________________\n",
            "max_pooling2d (MaxPooling2D) (None, 32, 32, 32)        0         \n",
            "_________________________________________________________________\n",
            "dropout (Dropout)            (None, 32, 32, 32)        0         \n",
            "_________________________________________________________________\n",
            "conv2d_1 (Conv2D)            (None, 32, 32, 64)        51264     \n",
            "_________________________________________________________________\n",
            "batch_normalization_1 (Batch (None, 32, 32, 64)        256       \n",
            "_________________________________________________________________\n",
            "activation_1 (Activation)    (None, 32, 32, 64)        0         \n",
            "_________________________________________________________________\n",
            "max_pooling2d_1 (MaxPooling2 (None, 16, 16, 64)        0         \n",
            "_________________________________________________________________\n",
            "dropout_1 (Dropout)          (None, 16, 16, 64)        0         \n",
            "_________________________________________________________________\n",
            "flatten (Flatten)            (None, 16384)             0         \n",
            "_________________________________________________________________\n",
            "dense (Dense)                (None, 512)               8389120   \n",
            "_________________________________________________________________\n",
            "batch_normalization_2 (Batch (None, 512)               2048      \n",
            "_________________________________________________________________\n",
            "activation_2 (Activation)    (None, 512)               0         \n",
            "_________________________________________________________________\n",
            "dropout_2 (Dropout)          (None, 512)               0         \n",
            "_________________________________________________________________\n",
            "dense_1 (Dense)              (None, 2)                 1026      \n",
            "_________________________________________________________________\n",
            "activation_3 (Activation)    (None, 2)                 0         \n",
            "=================================================================\n",
            "Total params: 8,446,274\n",
            "Trainable params: 8,445,058\n",
            "Non-trainable params: 1,216\n",
            "_________________________________________________________________\n"
          ],
          "name": "stdout"
        }
      ]
    },
    {
      "cell_type": "code",
      "metadata": {
        "id": "s1LQdBWVDGrp"
      },
      "source": [
        "opt = Adam(learning_rate=LR, decay=LR/EPOCHS)\n",
        "#opt_sgd = SGD(learning_rate=LR, decay=LR/EPOCHS)\n",
        "model.compile(loss=\"categorical_crossentropy\", optimizer=opt, metrics=\"accuracy\")"
      ],
      "execution_count": null,
      "outputs": []
    },
    {
      "cell_type": "code",
      "metadata": {
        "id": "sTWQbO9mH8R2",
        "colab": {
          "base_uri": "https://localhost:8080/"
        },
        "outputId": "78d95365-ff7c-45c5-d1ac-257a0fde917f"
      },
      "source": [
        "#FITTING WITH DATA IMAGE GENERATOR\n",
        "\n",
        "hist = model.fit(datagen.flow(X_train, y_train, batch_size=BATCHSIZE), validation_data=(X_test, y_test),\n",
        "          epochs = EPOCHS, steps_per_epoch=(X_train.shape[0]//BATCHSIZE), verbose=1)"
      ],
      "execution_count": null,
      "outputs": [
        {
          "output_type": "stream",
          "text": [
            "Epoch 1/75\n",
            "12/12 [==============================] - 35s 171ms/step - loss: 1.0630 - accuracy: 0.6746 - val_loss: 3.9244 - val_accuracy: 0.4831\n",
            "Epoch 2/75\n",
            "12/12 [==============================] - 2s 133ms/step - loss: 0.5805 - accuracy: 0.8234 - val_loss: 0.7948 - val_accuracy: 0.7285\n",
            "Epoch 3/75\n",
            "12/12 [==============================] - 2s 134ms/step - loss: 0.4258 - accuracy: 0.8740 - val_loss: 0.4143 - val_accuracy: 0.8801\n",
            "Epoch 4/75\n",
            "12/12 [==============================] - 2s 136ms/step - loss: 0.4218 - accuracy: 0.8894 - val_loss: 0.4565 - val_accuracy: 0.8558\n",
            "Epoch 5/75\n",
            "12/12 [==============================] - 2s 139ms/step - loss: 0.4088 - accuracy: 0.8835 - val_loss: 0.4943 - val_accuracy: 0.8371\n",
            "Epoch 6/75\n",
            "12/12 [==============================] - 2s 144ms/step - loss: 0.3682 - accuracy: 0.9048 - val_loss: 0.4364 - val_accuracy: 0.8614\n",
            "Epoch 7/75\n",
            "12/12 [==============================] - 2s 137ms/step - loss: 0.3313 - accuracy: 0.9208 - val_loss: 0.4168 - val_accuracy: 0.8820\n",
            "Epoch 8/75\n",
            "12/12 [==============================] - 2s 139ms/step - loss: 0.3396 - accuracy: 0.9161 - val_loss: 0.4389 - val_accuracy: 0.8633\n",
            "Epoch 9/75\n",
            "12/12 [==============================] - 2s 136ms/step - loss: 0.3473 - accuracy: 0.9144 - val_loss: 0.3200 - val_accuracy: 0.9476\n",
            "Epoch 10/75\n",
            "12/12 [==============================] - 2s 140ms/step - loss: 0.3347 - accuracy: 0.9230 - val_loss: 0.3374 - val_accuracy: 0.9213\n",
            "Epoch 11/75\n",
            "12/12 [==============================] - 2s 137ms/step - loss: 0.3046 - accuracy: 0.9284 - val_loss: 0.5428 - val_accuracy: 0.8202\n",
            "Epoch 12/75\n",
            "12/12 [==============================] - 2s 141ms/step - loss: 0.2752 - accuracy: 0.9476 - val_loss: 0.3078 - val_accuracy: 0.9494\n",
            "Epoch 13/75\n",
            "12/12 [==============================] - 2s 137ms/step - loss: 0.3310 - accuracy: 0.9200 - val_loss: 0.3393 - val_accuracy: 0.9232\n",
            "Epoch 14/75\n",
            "12/12 [==============================] - 2s 138ms/step - loss: 0.2757 - accuracy: 0.9423 - val_loss: 0.4070 - val_accuracy: 0.8876\n",
            "Epoch 15/75\n",
            "12/12 [==============================] - 2s 143ms/step - loss: 0.2673 - accuracy: 0.9438 - val_loss: 0.2842 - val_accuracy: 0.9532\n",
            "Epoch 16/75\n",
            "12/12 [==============================] - 2s 137ms/step - loss: 0.2529 - accuracy: 0.9471 - val_loss: 0.3158 - val_accuracy: 0.9326\n",
            "Epoch 17/75\n",
            "12/12 [==============================] - 2s 138ms/step - loss: 0.2556 - accuracy: 0.9497 - val_loss: 0.2744 - val_accuracy: 0.9532\n",
            "Epoch 18/75\n",
            "12/12 [==============================] - 2s 137ms/step - loss: 0.2588 - accuracy: 0.9547 - val_loss: 0.2748 - val_accuracy: 0.9625\n",
            "Epoch 19/75\n",
            "12/12 [==============================] - 2s 140ms/step - loss: 0.2587 - accuracy: 0.9484 - val_loss: 0.3663 - val_accuracy: 0.9213\n",
            "Epoch 20/75\n",
            "12/12 [==============================] - 2s 149ms/step - loss: 0.2558 - accuracy: 0.9505 - val_loss: 0.2769 - val_accuracy: 0.9438\n",
            "Epoch 21/75\n",
            "12/12 [==============================] - 2s 138ms/step - loss: 0.2409 - accuracy: 0.9634 - val_loss: 0.2699 - val_accuracy: 0.9551\n",
            "Epoch 22/75\n",
            "12/12 [==============================] - 2s 139ms/step - loss: 0.2200 - accuracy: 0.9652 - val_loss: 0.3442 - val_accuracy: 0.9307\n",
            "Epoch 23/75\n",
            "12/12 [==============================] - 2s 138ms/step - loss: 0.2160 - accuracy: 0.9722 - val_loss: 0.3865 - val_accuracy: 0.9157\n",
            "Epoch 24/75\n",
            "12/12 [==============================] - 2s 140ms/step - loss: 0.2269 - accuracy: 0.9672 - val_loss: 0.2547 - val_accuracy: 0.9644\n",
            "Epoch 25/75\n",
            "12/12 [==============================] - 2s 142ms/step - loss: 0.2263 - accuracy: 0.9589 - val_loss: 0.2339 - val_accuracy: 0.9644\n",
            "Epoch 26/75\n",
            "12/12 [==============================] - 2s 138ms/step - loss: 0.2323 - accuracy: 0.9622 - val_loss: 0.2757 - val_accuracy: 0.9569\n",
            "Epoch 27/75\n",
            "12/12 [==============================] - 2s 138ms/step - loss: 0.2309 - accuracy: 0.9616 - val_loss: 0.3042 - val_accuracy: 0.9476\n",
            "Epoch 28/75\n",
            "12/12 [==============================] - 2s 139ms/step - loss: 0.2360 - accuracy: 0.9547 - val_loss: 0.2784 - val_accuracy: 0.9551\n",
            "Epoch 29/75\n",
            "12/12 [==============================] - 2s 138ms/step - loss: 0.2172 - accuracy: 0.9636 - val_loss: 0.4911 - val_accuracy: 0.8577\n",
            "Epoch 30/75\n",
            "12/12 [==============================] - 2s 139ms/step - loss: 0.2073 - accuracy: 0.9684 - val_loss: 0.2468 - val_accuracy: 0.9644\n",
            "Epoch 31/75\n",
            "12/12 [==============================] - 2s 142ms/step - loss: 0.2128 - accuracy: 0.9656 - val_loss: 0.2326 - val_accuracy: 0.9719\n",
            "Epoch 32/75\n",
            "12/12 [==============================] - 2s 140ms/step - loss: 0.2383 - accuracy: 0.9551 - val_loss: 0.6352 - val_accuracy: 0.7959\n",
            "Epoch 33/75\n",
            "12/12 [==============================] - 2s 140ms/step - loss: 0.2227 - accuracy: 0.9656 - val_loss: 0.2522 - val_accuracy: 0.9494\n",
            "Epoch 34/75\n",
            "12/12 [==============================] - 2s 138ms/step - loss: 0.2173 - accuracy: 0.9726 - val_loss: 0.2725 - val_accuracy: 0.9532\n",
            "Epoch 35/75\n",
            "12/12 [==============================] - 2s 140ms/step - loss: 0.2184 - accuracy: 0.9623 - val_loss: 0.3489 - val_accuracy: 0.9213\n",
            "Epoch 36/75\n",
            "12/12 [==============================] - 2s 142ms/step - loss: 0.2057 - accuracy: 0.9655 - val_loss: 0.2714 - val_accuracy: 0.9588\n",
            "Epoch 37/75\n",
            "12/12 [==============================] - 2s 137ms/step - loss: 0.2005 - accuracy: 0.9768 - val_loss: 0.3188 - val_accuracy: 0.9457\n",
            "Epoch 38/75\n",
            "12/12 [==============================] - 2s 145ms/step - loss: 0.1941 - accuracy: 0.9746 - val_loss: 0.3418 - val_accuracy: 0.9307\n",
            "Epoch 39/75\n",
            "12/12 [==============================] - 2s 140ms/step - loss: 0.1901 - accuracy: 0.9806 - val_loss: 0.2645 - val_accuracy: 0.9644\n",
            "Epoch 40/75\n",
            "12/12 [==============================] - 2s 145ms/step - loss: 0.2052 - accuracy: 0.9764 - val_loss: 0.3264 - val_accuracy: 0.9494\n",
            "Epoch 41/75\n",
            "12/12 [==============================] - 2s 139ms/step - loss: 0.1749 - accuracy: 0.9803 - val_loss: 0.2344 - val_accuracy: 0.9682\n",
            "Epoch 42/75\n",
            "12/12 [==============================] - 2s 146ms/step - loss: 0.1808 - accuracy: 0.9818 - val_loss: 0.3106 - val_accuracy: 0.9625\n",
            "Epoch 43/75\n",
            "12/12 [==============================] - 2s 142ms/step - loss: 0.2014 - accuracy: 0.9681 - val_loss: 0.2927 - val_accuracy: 0.9270\n",
            "Epoch 44/75\n",
            "12/12 [==============================] - 2s 138ms/step - loss: 0.1833 - accuracy: 0.9758 - val_loss: 0.2656 - val_accuracy: 0.9551\n",
            "Epoch 45/75\n",
            "12/12 [==============================] - 2s 136ms/step - loss: 0.1925 - accuracy: 0.9712 - val_loss: 0.2364 - val_accuracy: 0.9682\n",
            "Epoch 46/75\n",
            "12/12 [==============================] - 2s 143ms/step - loss: 0.1916 - accuracy: 0.9722 - val_loss: 0.3201 - val_accuracy: 0.9457\n",
            "Epoch 47/75\n",
            "12/12 [==============================] - 2s 139ms/step - loss: 0.1885 - accuracy: 0.9765 - val_loss: 0.2334 - val_accuracy: 0.9551\n",
            "Epoch 48/75\n",
            "12/12 [==============================] - 2s 139ms/step - loss: 0.1974 - accuracy: 0.9700 - val_loss: 0.2630 - val_accuracy: 0.9607\n",
            "Epoch 49/75\n",
            "12/12 [==============================] - 2s 140ms/step - loss: 0.2023 - accuracy: 0.9682 - val_loss: 0.2183 - val_accuracy: 0.9682\n",
            "Epoch 50/75\n",
            "12/12 [==============================] - 2s 141ms/step - loss: 0.1839 - accuracy: 0.9781 - val_loss: 0.2163 - val_accuracy: 0.9738\n",
            "Epoch 51/75\n",
            "12/12 [==============================] - 2s 139ms/step - loss: 0.1718 - accuracy: 0.9797 - val_loss: 0.3141 - val_accuracy: 0.9494\n",
            "Epoch 52/75\n",
            "12/12 [==============================] - 2s 143ms/step - loss: 0.2119 - accuracy: 0.9677 - val_loss: 0.2157 - val_accuracy: 0.9775\n",
            "Epoch 53/75\n",
            "12/12 [==============================] - 2s 145ms/step - loss: 0.1812 - accuracy: 0.9801 - val_loss: 0.2160 - val_accuracy: 0.9700\n",
            "Epoch 54/75\n",
            "12/12 [==============================] - 2s 137ms/step - loss: 0.1724 - accuracy: 0.9862 - val_loss: 0.2110 - val_accuracy: 0.9719\n",
            "Epoch 55/75\n",
            "12/12 [==============================] - 2s 136ms/step - loss: 0.1714 - accuracy: 0.9835 - val_loss: 0.1941 - val_accuracy: 0.9775\n",
            "Epoch 56/75\n",
            "12/12 [==============================] - 2s 141ms/step - loss: 0.1679 - accuracy: 0.9848 - val_loss: 0.2579 - val_accuracy: 0.9607\n",
            "Epoch 57/75\n",
            "12/12 [==============================] - 2s 140ms/step - loss: 0.1842 - accuracy: 0.9754 - val_loss: 0.3459 - val_accuracy: 0.9438\n",
            "Epoch 58/75\n",
            "12/12 [==============================] - 2s 144ms/step - loss: 0.1836 - accuracy: 0.9754 - val_loss: 0.2246 - val_accuracy: 0.9700\n",
            "Epoch 59/75\n",
            "12/12 [==============================] - 2s 139ms/step - loss: 0.1738 - accuracy: 0.9833 - val_loss: 0.2188 - val_accuracy: 0.9700\n",
            "Epoch 60/75\n",
            "12/12 [==============================] - 2s 140ms/step - loss: 0.2030 - accuracy: 0.9650 - val_loss: 0.2195 - val_accuracy: 0.9682\n",
            "Epoch 61/75\n",
            "12/12 [==============================] - 2s 139ms/step - loss: 0.1830 - accuracy: 0.9766 - val_loss: 0.2721 - val_accuracy: 0.9607\n",
            "Epoch 62/75\n",
            "12/12 [==============================] - 2s 139ms/step - loss: 0.1902 - accuracy: 0.9723 - val_loss: 0.2505 - val_accuracy: 0.9588\n",
            "Epoch 63/75\n",
            "12/12 [==============================] - 2s 140ms/step - loss: 0.1834 - accuracy: 0.9797 - val_loss: 0.2445 - val_accuracy: 0.9663\n",
            "Epoch 64/75\n",
            "12/12 [==============================] - 2s 140ms/step - loss: 0.1741 - accuracy: 0.9763 - val_loss: 0.4907 - val_accuracy: 0.8970\n",
            "Epoch 65/75\n",
            "12/12 [==============================] - 2s 143ms/step - loss: 0.1639 - accuracy: 0.9841 - val_loss: 0.3144 - val_accuracy: 0.9401\n",
            "Epoch 66/75\n",
            "12/12 [==============================] - 2s 141ms/step - loss: 0.1813 - accuracy: 0.9779 - val_loss: 0.1903 - val_accuracy: 0.9757\n",
            "Epoch 67/75\n",
            "12/12 [==============================] - 2s 139ms/step - loss: 0.1731 - accuracy: 0.9832 - val_loss: 0.2724 - val_accuracy: 0.9588\n",
            "Epoch 68/75\n",
            "12/12 [==============================] - 2s 144ms/step - loss: 0.1844 - accuracy: 0.9705 - val_loss: 0.1933 - val_accuracy: 0.9794\n",
            "Epoch 69/75\n",
            "12/12 [==============================] - 2s 139ms/step - loss: 0.1695 - accuracy: 0.9803 - val_loss: 0.2064 - val_accuracy: 0.9738\n",
            "Epoch 70/75\n",
            "12/12 [==============================] - 2s 144ms/step - loss: 0.1633 - accuracy: 0.9889 - val_loss: 0.1991 - val_accuracy: 0.9682\n",
            "Epoch 71/75\n",
            "12/12 [==============================] - 2s 147ms/step - loss: 0.1671 - accuracy: 0.9833 - val_loss: 0.1925 - val_accuracy: 0.9813\n",
            "Epoch 72/75\n",
            "12/12 [==============================] - 2s 139ms/step - loss: 0.1662 - accuracy: 0.9814 - val_loss: 0.1964 - val_accuracy: 0.9757\n",
            "Epoch 73/75\n",
            "12/12 [==============================] - 2s 145ms/step - loss: 0.1546 - accuracy: 0.9900 - val_loss: 0.1886 - val_accuracy: 0.9794\n",
            "Epoch 74/75\n",
            "12/12 [==============================] - 2s 140ms/step - loss: 0.1525 - accuracy: 0.9898 - val_loss: 0.1977 - val_accuracy: 0.9738\n",
            "Epoch 75/75\n",
            "12/12 [==============================] - 2s 145ms/step - loss: 0.1530 - accuracy: 0.9875 - val_loss: 0.2122 - val_accuracy: 0.9663\n"
          ],
          "name": "stdout"
        }
      ]
    },
    {
      "cell_type": "markdown",
      "metadata": {
        "id": "-skL2kJX1HfT"
      },
      "source": [
        "### Plot model results"
      ]
    },
    {
      "cell_type": "code",
      "metadata": {
        "colab": {
          "base_uri": "https://localhost:8080/",
          "height": 337
        },
        "id": "Qy-K7H-03Uwt",
        "outputId": "5fcca262-17a2-4b99-ea10-f922d860bc85"
      },
      "source": [
        "plt.style.use(\"ggplot\")\n",
        "fig, ax = plt.subplots(1,2, figsize=(12, 5))\n",
        "\n",
        "#Starting from the 4th epochs to have a better visualisation of the decreasing loss\n",
        "ax[0].plot(hist.history[\"loss\"][4:], label=\"Training loss\")\n",
        "ax[0].plot(hist.history[\"val_loss\"][4:], label=\"Testing loss\")\n",
        "ax[0].set_xlabel(\"Epochs\") ; ax[0].legend()\n",
        "\n",
        "ax[1].plot(hist.history[\"accuracy\"], label=\"Training accuracy\")\n",
        "ax[1].plot(hist.history[\"val_accuracy\"], label=\"Testing loss\")\n",
        "ax[1].set_xlabel(\"Epochs\") ; ax[1].legend()\n",
        "\n",
        "plt.show()"
      ],
      "execution_count": null,
      "outputs": [
        {
          "output_type": "display_data",
          "data": {
            "image/png": "[encoded data removed]",
            "text/plain": [
              "<Figure size 864x360 with 2 Axes>"
            ]
          },
          "metadata": {
            "tags": []
          }
        }
      ]
    },
    {
      "cell_type": "code",
      "metadata": {
        "colab": {
          "base_uri": "https://localhost:8080/"
        },
        "id": "c0ORmVsGvMdE",
        "outputId": "85817b03-c259-4b70-e9e2-4e057861ba99"
      },
      "source": [
        "num_model = round(np.mean(model.evaluate(X_test, y_test)[-1]),3)\n",
        "num_model"
      ],
      "execution_count": null,
      "outputs": [
        {
          "output_type": "stream",
          "text": [
            "17/17 [==============================] - 0s 5ms/step - loss: 0.2122 - accuracy: 0.9663\n"
          ],
          "name": "stdout"
        },
        {
          "output_type": "execute_result",
          "data": {
            "text/plain": [
              "0.966"
            ]
          },
          "metadata": {
            "tags": []
          },
          "execution_count": 37
        }
      ]
    },
    {
      "cell_type": "code",
      "metadata": {
        "id": "6cQjZp4x3yr8"
      },
      "source": [
        "model.save(f'gender_detection_{IMG_DIMS[0]}_{str(num_model)[2:]}.h5')"
      ],
      "execution_count": null,
      "outputs": []
    },
    {
      "cell_type": "code",
      "metadata": {
        "id": "C_Yr1XhADhqU"
      },
      "source": [
        ""
      ],
      "execution_count": null,
      "outputs": []
    }
  ]
}